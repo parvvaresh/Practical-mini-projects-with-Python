{
  "nbformat": 4,
  "nbformat_minor": 0,
  "metadata": {
    "colab": {
      "provenance": []
    },
    "kernelspec": {
      "name": "python3",
      "display_name": "Python 3"
    },
    "language_info": {
      "name": "python"
    }
  },
  "cells": [
    {
      "cell_type": "code",
      "execution_count": 1,
      "metadata": {
        "colab": {
          "base_uri": "https://localhost:8080/"
        },
        "id": "JMS2QZBWghDQ",
        "outputId": "896f81d9-faaa-40ec-89a3-6941f8e2df99"
      },
      "outputs": [
        {
          "output_type": "stream",
          "name": "stdout",
          "text": [
            "Looking in indexes: https://pypi.org/simple, https://us-python.pkg.dev/colab-wheels/public/simple/\n",
            "Collecting PyPDF2\n",
            "  Downloading PyPDF2-2.10.5-py3-none-any.whl (216 kB)\n",
            "\u001b[K     |████████████████████████████████| 216 kB 7.5 MB/s \n",
            "\u001b[?25hRequirement already satisfied: typing-extensions>=3.10.0.0 in /usr/local/lib/python3.7/dist-packages (from PyPDF2) (4.1.1)\n",
            "Installing collected packages: PyPDF2\n",
            "Successfully installed PyPDF2-2.10.5\n"
          ]
        }
      ],
      "source": [
        "!pip install PyPDF2 "
      ]
    },
    {
      "cell_type": "code",
      "source": [
        "from PyPDF2 import PdfMerger\n",
        "\n",
        "pdfs = ['/content/1.pdf', '/content/2.pdf', '/content/3.pdf', '/content/4.pdf']\n",
        "\n",
        "merger = PdfMerger()\n",
        "\n",
        "for pdf in pdfs:\n",
        "  merger.append(pdf, pages=(0,2))\n",
        "merger.write(\"merge2.pdf\")\n",
        "merger.close()\n"
      ],
      "metadata": {
        "id": "Rl56JDORg_Lg"
      },
      "execution_count": 5,
      "outputs": []
    }
  ]
}