{
  "nbformat": 4,
  "nbformat_minor": 0,
  "metadata": {
    "colab": {
      "provenance": []
    },
    "kernelspec": {
      "name": "python3",
      "display_name": "Python 3"
    },
    "language_info": {
      "name": "python"
    }
  },
  "cells": [
    {
      "cell_type": "code",
      "execution_count": 3,
      "metadata": {
        "id": "sjcvHYS43Pkp"
      },
      "outputs": [],
      "source": [
        "from zipfile import ZipFile\n",
        "\n",
        "files = ['/content/Q&A.py' , '/content/Spinner.py', '/content/Symmetric&SkewSymmetric-matrix.py' , '/content/determinant-matrix.py', '/content/rock, paper, scissors game.py', '/content/tik-tak-tok.py']\n",
        "\n",
        "zipObj = ZipFile('test.zip', 'w')\n",
        "\n",
        "for file_temp in files:\n",
        "  zipObj.write(file_temp)\n",
        "\n",
        "zipObj.close()\n",
        "\n"
      ]
    }
  ]
}