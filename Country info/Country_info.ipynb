{
  "nbformat": 4,
  "nbformat_minor": 0,
  "metadata": {
    "colab": {
      "provenance": []
    },
    "kernelspec": {
      "name": "python3",
      "display_name": "Python 3"
    },
    "language_info": {
      "name": "python"
    }
  },
  "cells": [
    {
      "cell_type": "code",
      "execution_count": 1,
      "metadata": {
        "colab": {
          "base_uri": "https://localhost:8080/"
        },
        "id": "_jW5z2EPocKb",
        "outputId": "cf32fabd-d899-4d77-d4bf-40f0ac5fdc42"
      },
      "outputs": [
        {
          "output_type": "stream",
          "name": "stdout",
          "text": [
            "Looking in indexes: https://pypi.org/simple, https://us-python.pkg.dev/colab-wheels/public/simple/\n",
            "Collecting countryinfo\n",
            "  Downloading countryinfo-0.1.2-py3-none-any.whl (602 kB)\n",
            "\u001b[K     |████████████████████████████████| 602 kB 5.2 MB/s \n",
            "\u001b[?25hInstalling collected packages: countryinfo\n",
            "Successfully installed countryinfo-0.1.2\n"
          ]
        }
      ],
      "source": [
        "!pip install countryinfo"
      ]
    },
    {
      "cell_type": "code",
      "source": [
        "from countryinfo import CountryInfo\n",
        "\n",
        "user = input(\"please enter your country : \")\n",
        "\n",
        "country = CountryInfo(user)\n",
        "\n",
        "print(\"Capital is : \", country.capital())\n",
        "print(\"Cuerrencies is : \", country.currencies())\n",
        "print(\"Lanugae is : \", country.languages())\n",
        "print(\"Borders are : \", country.borders())\n",
        "print(\"other names  : \", country.alt_spellings())\n"
      ],
      "metadata": {
        "colab": {
          "base_uri": "https://localhost:8080/"
        },
        "id": "A6rQMEMpoyNT",
        "outputId": "15b86291-8e24-474a-ad59-42ccfd566118"
      },
      "execution_count": 12,
      "outputs": [
        {
          "output_type": "stream",
          "name": "stdout",
          "text": [
            "please enter your country : iran\n",
            "Capital is :  Tehran\n",
            "Cuerrencies is :  ['IRR']\n",
            "Lanugae is :  ['fa']\n",
            "Borders are :  ['AFG', 'ARM', 'AZE', 'IRQ', 'PAK', 'TUR', 'TKM']\n",
            "other names  :  ['IR', 'Islamic Republic of Iran', 'Jomhuri-ye Eslāmi-ye Irān']\n"
          ]
        }
      ]
    }
  ]
}